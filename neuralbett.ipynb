{
 "cells": [
  {
   "cell_type": "code",
   "execution_count": 12,
   "metadata": {
    "_cell_guid": "b1076dfc-b9ad-4769-8c92-a6c4dae69d19",
    "_uuid": "8f2839f25d086af736a60e9eeb907d3b93b6e0e5",
    "execution": {
     "iopub.execute_input": "2023-04-19T23:28:56.388701Z",
     "iopub.status.busy": "2023-04-19T23:28:56.388219Z",
     "iopub.status.idle": "2023-04-19T23:28:59.177986Z",
     "shell.execute_reply": "2023-04-19T23:28:59.176794Z",
     "shell.execute_reply.started": "2023-04-19T23:28:56.388665Z"
    }
   },
   "outputs": [],
   "source": [
    "import numpy as np\n",
    "import pandas as pd\n",
    "from matplotlib import pyplot as plt\n",
    "\n",
    "data = pd.read_csv('train.csv')"
   ]
  },
  {
   "cell_type": "code",
   "execution_count": 13,
   "metadata": {
    "execution": {
     "iopub.execute_input": "2023-04-19T23:28:59.180894Z",
     "iopub.status.busy": "2023-04-19T23:28:59.180406Z",
     "iopub.status.idle": "2023-04-19T23:29:00.056678Z",
     "shell.execute_reply": "2023-04-19T23:29:00.055400Z",
     "shell.execute_reply.started": "2023-04-19T23:28:59.180836Z"
    }
   },
   "outputs": [],
   "source": [
    "data = np.array(data)\n",
    "m, n = data.shape\n",
    "np.random.shuffle(data) # shuffle before splitting into dev and training sets\n",
    "\n",
    "data_dev = data[0:1000].T\n",
    "Y_dev = data_dev[0]\n",
    "X_dev = data_dev[1:n]\n",
    "X_dev = X_dev / 255.\n",
    "\n",
    "data_train = data[1000:m].T\n",
    "Y_train = data_train[0]\n",
    "X_train = data_train[1:n]\n",
    "X_train = X_train / 255.\n",
    "_,m_train = X_train.shape\n"
   ]
  },
  {
   "cell_type": "code",
   "execution_count": 14,
   "metadata": {
    "execution": {
     "iopub.execute_input": "2023-04-19T23:29:00.058919Z",
     "iopub.status.busy": "2023-04-19T23:29:00.058330Z",
     "iopub.status.idle": "2023-04-19T23:29:00.072320Z",
     "shell.execute_reply": "2023-04-19T23:29:00.071247Z",
     "shell.execute_reply.started": "2023-04-19T23:29:00.058882Z"
    }
   },
   "outputs": [],
   "source": [
    "def init_params():\n",
    "    W1 = np.random.rand(10, 784) - 0.5\n",
    "    b1 = np.random.rand(10, 1) - 0.5\n",
    "    W2 = np.random.rand(10, 10) - 0.5\n",
    "    b2 = np.random.rand(10, 1) - 0.5\n",
    "    return W1, b1, W2, b2\n",
    "\n",
    "def ReLU(Z):\n",
    "    return np.maximum(Z, 0)\n",
    "\n",
    "def softmax(Z):\n",
    "    A = np.exp(Z) / sum(np.exp(Z))\n",
    "    return A\n",
    "    \n",
    "def forward_prop(W1, b1, W2, b2, X):\n",
    "    Z1 = W1.dot(X) + b1\n",
    "    A1 = ReLU(Z1)\n",
    "    Z2 = W2.dot(A1) + b2\n",
    "    A2 = softmax(Z2)\n",
    "    return Z1, A1, Z2, A2\n",
    "def ReLU_deriv(Z):\n",
    "    return Z > 0\n",
    "\n",
    "def one_hot(Y):\n",
    "    one_hot_Y = np.zeros((Y.size, Y.max() + 1))\n",
    "    one_hot_Y[np.arange(Y.size), Y] = 1\n",
    "    one_hot_Y = one_hot_Y.T\n",
    "    return one_hot_Y\n",
    "\n",
    "def backward_prop(Z1, A1, Z2, A2, W1, W2, X, Y):\n",
    "    one_hot_Y = one_hot(Y)\n",
    "    dZ2 = A2 - one_hot_Y\n",
    "    dW2 = 1 / m * dZ2.dot(A1.T)\n",
    "    db2 = 1 / m * np.sum(dZ2)\n",
    "    dZ1 = W2.T.dot(dZ2) * ReLU_deriv(Z1)\n",
    "    dW1 = 1 / m * dZ1.dot(X.T)\n",
    "    db1 = 1 / m * np.sum(dZ1)\n",
    "    return dW1, db1, dW2, db2\n",
    "\n",
    "def update_params(W1, b1, W2, b2, dW1, db1, dW2, db2, alpha):\n",
    "    W1 = W1 - alpha * dW1\n",
    "    b1 = b1 - alpha * db1    \n",
    "    W2 = W2 - alpha * dW2  \n",
    "    b2 = b2 - alpha * db2    \n",
    "    return W1, b1, W2, b2\n"
   ]
  },
  {
   "cell_type": "code",
   "execution_count": 15,
   "metadata": {
    "execution": {
     "iopub.execute_input": "2023-04-19T23:29:00.075133Z",
     "iopub.status.busy": "2023-04-19T23:29:00.074778Z",
     "iopub.status.idle": "2023-04-19T23:29:00.084981Z",
     "shell.execute_reply": "2023-04-19T23:29:00.083876Z",
     "shell.execute_reply.started": "2023-04-19T23:29:00.075101Z"
    }
   },
   "outputs": [],
   "source": [
    "def get_predictions(A2):\n",
    "    return np.argmax(A2, 0)\n",
    "\n",
    "def get_accuracy(predictions, Y):\n",
    "    print(predictions, Y)\n",
    "    return np.sum(predictions == Y) / Y.size\n",
    "def gradient_descent(X, Y, alpha, iterations):\n",
    "    W1, b1, W2, b2 = init_params()\n",
    "    for i in range(iterations):\n",
    "        Z1, A1, Z2, A2 = forward_prop(W1, b1, W2, b2, X)\n",
    "        dW1, db1, dW2, db2 = backward_prop(Z1, A1, Z2, A2, W1, W2, X, Y)\n",
    "        W1, b1, W2, b2 = update_params(W1, b1, W2, b2, dW1, db1, dW2, db2, alpha)\n",
    "        if i % 10 == 0:\n",
    "            print(\"Iteration: \", i)\n",
    "            predictions = get_predictions(A2)\n",
    "            print(get_accuracy(predictions, Y))\n",
    "    return W1, b1, W2, b2"
   ]
  },
  {
   "cell_type": "code",
   "execution_count": 16,
   "metadata": {
    "execution": {
     "iopub.execute_input": "2023-04-19T23:29:00.086768Z",
     "iopub.status.busy": "2023-04-19T23:29:00.086443Z",
     "iopub.status.idle": "2023-04-19T23:31:50.833549Z",
     "shell.execute_reply": "2023-04-19T23:31:50.832204Z",
     "shell.execute_reply.started": "2023-04-19T23:29:00.086735Z"
    }
   },
   "outputs": [
    {
     "name": "stdout",
     "output_type": "stream",
     "text": [
      "Iteration:  0\n",
      "[5 5 8 ... 5 5 3] [7 3 1 ... 3 5 2]\n",
      "0.10619512195121951\n",
      "Iteration:  10\n",
      "[7 5 8 ... 0 5 3] [7 3 1 ... 3 5 2]\n",
      "0.1685609756097561\n",
      "Iteration:  20\n",
      "[7 5 2 ... 0 1 0] [7 3 1 ... 3 5 2]\n",
      "0.2309268292682927\n",
      "Iteration:  30\n",
      "[7 1 1 ... 3 1 2] [7 3 1 ... 3 5 2]\n",
      "0.31041463414634146\n",
      "Iteration:  40\n",
      "[7 1 1 ... 3 1 2] [7 3 1 ... 3 5 2]\n",
      "0.40339024390243905\n",
      "Iteration:  50\n",
      "[7 1 1 ... 3 5 2] [7 3 1 ... 3 5 2]\n",
      "0.48017073170731706\n",
      "Iteration:  60\n",
      "[7 1 1 ... 3 5 2] [7 3 1 ... 3 5 2]\n",
      "0.533609756097561\n",
      "Iteration:  70\n",
      "[7 1 1 ... 3 5 2] [7 3 1 ... 3 5 2]\n",
      "0.5766341463414634\n",
      "Iteration:  80\n",
      "[7 1 1 ... 3 5 2] [7 3 1 ... 3 5 2]\n",
      "0.6103170731707317\n",
      "Iteration:  90\n",
      "[7 1 1 ... 3 5 2] [7 3 1 ... 3 5 2]\n",
      "0.6381219512195122\n",
      "Iteration:  100\n",
      "[7 1 1 ... 3 5 2] [7 3 1 ... 3 5 2]\n",
      "0.6602439024390244\n",
      "Iteration:  110\n",
      "[7 1 1 ... 3 5 2] [7 3 1 ... 3 5 2]\n",
      "0.6779024390243903\n",
      "Iteration:  120\n",
      "[7 1 1 ... 3 5 2] [7 3 1 ... 3 5 2]\n",
      "0.6951219512195121\n",
      "Iteration:  130\n",
      "[7 1 1 ... 3 5 2] [7 3 1 ... 3 5 2]\n",
      "0.7085365853658536\n",
      "Iteration:  140\n",
      "[7 1 1 ... 3 9 2] [7 3 1 ... 3 5 2]\n",
      "0.7197560975609756\n",
      "Iteration:  150\n",
      "[7 1 1 ... 3 9 2] [7 3 1 ... 3 5 2]\n",
      "0.7295121951219512\n",
      "Iteration:  160\n",
      "[7 1 1 ... 3 9 2] [7 3 1 ... 3 5 2]\n",
      "0.7378292682926829\n",
      "Iteration:  170\n",
      "[7 1 1 ... 3 9 2] [7 3 1 ... 3 5 2]\n",
      "0.7456341463414634\n",
      "Iteration:  180\n",
      "[7 1 1 ... 3 9 2] [7 3 1 ... 3 5 2]\n",
      "0.7530487804878049\n",
      "Iteration:  190\n",
      "[7 1 1 ... 3 9 2] [7 3 1 ... 3 5 2]\n",
      "0.7600487804878049\n",
      "Iteration:  200\n",
      "[7 1 1 ... 3 9 2] [7 3 1 ... 3 5 2]\n",
      "0.766609756097561\n",
      "Iteration:  210\n",
      "[7 1 1 ... 3 9 2] [7 3 1 ... 3 5 2]\n",
      "0.771829268292683\n",
      "Iteration:  220\n",
      "[7 1 1 ... 3 9 2] [7 3 1 ... 3 5 2]\n",
      "0.7767073170731708\n",
      "Iteration:  230\n",
      "[7 1 1 ... 3 9 2] [7 3 1 ... 3 5 2]\n",
      "0.7814146341463415\n",
      "Iteration:  240\n",
      "[7 1 1 ... 3 9 2] [7 3 1 ... 3 5 2]\n",
      "0.7857804878048781\n",
      "Iteration:  250\n",
      "[7 1 1 ... 3 9 2] [7 3 1 ... 3 5 2]\n",
      "0.7894390243902439\n",
      "Iteration:  260\n",
      "[7 1 1 ... 3 9 2] [7 3 1 ... 3 5 2]\n",
      "0.7929512195121952\n",
      "Iteration:  270\n",
      "[7 1 1 ... 3 9 2] [7 3 1 ... 3 5 2]\n",
      "0.7962926829268293\n",
      "Iteration:  280\n",
      "[7 1 1 ... 3 9 2] [7 3 1 ... 3 5 2]\n",
      "0.799609756097561\n",
      "Iteration:  290\n",
      "[7 1 1 ... 3 9 2] [7 3 1 ... 3 5 2]\n",
      "0.8024634146341464\n",
      "Iteration:  300\n",
      "[7 1 1 ... 3 9 2] [7 3 1 ... 3 5 2]\n",
      "0.8055609756097561\n",
      "Iteration:  310\n",
      "[7 1 1 ... 3 9 2] [7 3 1 ... 3 5 2]\n",
      "0.8089268292682927\n",
      "Iteration:  320\n",
      "[7 1 1 ... 3 9 2] [7 3 1 ... 3 5 2]\n",
      "0.8117804878048781\n",
      "Iteration:  330\n",
      "[7 1 1 ... 3 9 2] [7 3 1 ... 3 5 2]\n",
      "0.8148780487804878\n",
      "Iteration:  340\n",
      "[7 1 1 ... 3 9 2] [7 3 1 ... 3 5 2]\n",
      "0.8169756097560975\n",
      "Iteration:  350\n",
      "[7 1 1 ... 3 9 2] [7 3 1 ... 3 5 2]\n",
      "0.8194634146341463\n",
      "Iteration:  360\n",
      "[7 1 1 ... 3 9 2] [7 3 1 ... 3 5 2]\n",
      "0.8213658536585365\n",
      "Iteration:  370\n",
      "[7 1 1 ... 3 9 2] [7 3 1 ... 3 5 2]\n",
      "0.8234634146341463\n",
      "Iteration:  380\n",
      "[7 1 1 ... 3 9 2] [7 3 1 ... 3 5 2]\n",
      "0.8256829268292682\n",
      "Iteration:  390\n",
      "[7 1 1 ... 3 9 2] [7 3 1 ... 3 5 2]\n",
      "0.8275365853658536\n",
      "Iteration:  400\n",
      "[7 1 1 ... 3 9 2] [7 3 1 ... 3 5 2]\n",
      "0.8293658536585365\n",
      "Iteration:  410\n",
      "[7 1 1 ... 3 9 2] [7 3 1 ... 3 5 2]\n",
      "0.8311219512195122\n",
      "Iteration:  420\n",
      "[7 1 1 ... 3 9 2] [7 3 1 ... 3 5 2]\n",
      "0.8332926829268292\n",
      "Iteration:  430\n",
      "[7 1 1 ... 3 9 2] [7 3 1 ... 3 5 2]\n",
      "0.8342926829268292\n",
      "Iteration:  440\n",
      "[7 1 1 ... 3 9 2] [7 3 1 ... 3 5 2]\n",
      "0.8359512195121951\n",
      "Iteration:  450\n",
      "[7 1 1 ... 3 9 2] [7 3 1 ... 3 5 2]\n",
      "0.8376341463414634\n",
      "Iteration:  460\n",
      "[7 1 1 ... 3 9 2] [7 3 1 ... 3 5 2]\n",
      "0.8387560975609756\n",
      "Iteration:  470\n",
      "[7 1 1 ... 3 9 2] [7 3 1 ... 3 5 2]\n",
      "0.8400731707317073\n",
      "Iteration:  480\n",
      "[7 1 1 ... 3 9 2] [7 3 1 ... 3 5 2]\n",
      "0.8414146341463414\n",
      "Iteration:  490\n",
      "[7 1 1 ... 3 9 2] [7 3 1 ... 3 5 2]\n",
      "0.8424146341463414\n",
      "Iteration:  500\n",
      "[7 1 1 ... 3 9 2] [7 3 1 ... 3 5 2]\n",
      "0.8436341463414634\n",
      "Iteration:  510\n",
      "[7 1 1 ... 3 9 2] [7 3 1 ... 3 5 2]\n",
      "0.8447073170731707\n",
      "Iteration:  520\n",
      "[7 1 1 ... 3 9 2] [7 3 1 ... 3 5 2]\n",
      "0.8460243902439024\n",
      "Iteration:  530\n",
      "[7 2 1 ... 3 9 2] [7 3 1 ... 3 5 2]\n",
      "0.8472439024390244\n",
      "Iteration:  540\n",
      "[7 2 1 ... 3 9 2] [7 3 1 ... 3 5 2]\n",
      "0.8482439024390244\n",
      "Iteration:  550\n",
      "[7 2 1 ... 3 9 2] [7 3 1 ... 3 5 2]\n",
      "0.8490975609756097\n",
      "Iteration:  560\n",
      "[7 2 1 ... 3 9 2] [7 3 1 ... 3 5 2]\n",
      "0.8500487804878049\n",
      "Iteration:  570\n",
      "[7 2 1 ... 3 9 2] [7 3 1 ... 3 5 2]\n",
      "0.8510731707317073\n",
      "Iteration:  580\n",
      "[7 2 1 ... 3 9 2] [7 3 1 ... 3 5 2]\n",
      "0.8520731707317073\n",
      "Iteration:  590\n",
      "[7 2 1 ... 3 9 2] [7 3 1 ... 3 5 2]\n",
      "0.853170731707317\n",
      "Iteration:  600\n",
      "[7 2 1 ... 3 9 2] [7 3 1 ... 3 5 2]\n",
      "0.8538780487804878\n",
      "Iteration:  610\n",
      "[7 2 1 ... 3 9 2] [7 3 1 ... 3 5 2]\n",
      "0.8545121951219512\n",
      "Iteration:  620\n",
      "[7 2 1 ... 3 9 2] [7 3 1 ... 3 5 2]\n",
      "0.8553170731707317\n",
      "Iteration:  630\n",
      "[7 2 1 ... 3 9 2] [7 3 1 ... 3 5 2]\n",
      "0.8563414634146341\n",
      "Iteration:  640\n",
      "[7 2 1 ... 3 9 2] [7 3 1 ... 3 5 2]\n",
      "0.8571463414634146\n",
      "Iteration:  650\n",
      "[7 2 1 ... 3 9 2] [7 3 1 ... 3 5 2]\n",
      "0.8578780487804878\n",
      "Iteration:  660\n",
      "[7 2 1 ... 3 9 2] [7 3 1 ... 3 5 2]\n",
      "0.8588536585365854\n",
      "Iteration:  670\n",
      "[7 2 1 ... 3 9 2] [7 3 1 ... 3 5 2]\n",
      "0.8598048780487805\n",
      "Iteration:  680\n",
      "[7 2 1 ... 3 9 2] [7 3 1 ... 3 5 2]\n",
      "0.8605853658536585\n",
      "Iteration:  690\n",
      "[7 2 1 ... 3 9 2] [7 3 1 ... 3 5 2]\n",
      "0.8614878048780488\n",
      "Iteration:  700\n",
      "[7 2 1 ... 3 9 2] [7 3 1 ... 3 5 2]\n",
      "0.8623414634146341\n",
      "Iteration:  710\n",
      "[7 2 1 ... 3 9 2] [7 3 1 ... 3 5 2]\n",
      "0.863\n",
      "Iteration:  720\n",
      "[7 2 1 ... 3 9 2] [7 3 1 ... 3 5 2]\n",
      "0.8636341463414634\n",
      "Iteration:  730\n",
      "[7 2 1 ... 3 9 2] [7 3 1 ... 3 5 2]\n",
      "0.8640487804878049\n",
      "Iteration:  740\n",
      "[7 2 1 ... 3 9 2] [7 3 1 ... 3 5 2]\n",
      "0.8644146341463415\n",
      "Iteration:  750\n",
      "[7 2 1 ... 3 9 2] [7 3 1 ... 3 5 2]\n",
      "0.8651951219512195\n",
      "Iteration:  760\n",
      "[7 2 1 ... 3 9 2] [7 3 1 ... 3 5 2]\n",
      "0.8658536585365854\n",
      "Iteration:  770\n",
      "[7 2 1 ... 3 9 2] [7 3 1 ... 3 5 2]\n",
      "0.8664634146341463\n",
      "Iteration:  780\n",
      "[7 2 1 ... 3 9 2] [7 3 1 ... 3 5 2]\n",
      "0.8669756097560976\n",
      "Iteration:  790\n",
      "[7 2 1 ... 3 9 2] [7 3 1 ... 3 5 2]\n",
      "0.8675365853658537\n",
      "Iteration:  800\n",
      "[7 2 1 ... 3 9 2] [7 3 1 ... 3 5 2]\n",
      "0.8679756097560976\n",
      "Iteration:  810\n",
      "[7 2 1 ... 3 9 2] [7 3 1 ... 3 5 2]\n",
      "0.8682926829268293\n",
      "Iteration:  820\n",
      "[7 2 1 ... 3 9 2] [7 3 1 ... 3 5 2]\n",
      "0.8689268292682927\n",
      "Iteration:  830\n",
      "[7 2 1 ... 3 9 2] [7 3 1 ... 3 5 2]\n",
      "0.8693170731707317\n",
      "Iteration:  840\n",
      "[7 2 1 ... 3 9 2] [7 3 1 ... 3 5 2]\n",
      "0.8698292682926829\n",
      "Iteration:  850\n",
      "[7 2 1 ... 3 9 2] [7 3 1 ... 3 5 2]\n",
      "0.870219512195122\n",
      "Iteration:  860\n",
      "[7 2 1 ... 3 9 2] [7 3 1 ... 3 5 2]\n",
      "0.870780487804878\n",
      "Iteration:  870\n",
      "[7 2 1 ... 3 9 2] [7 3 1 ... 3 5 2]\n",
      "0.8711463414634146\n",
      "Iteration:  880\n",
      "[7 2 1 ... 3 9 2] [7 3 1 ... 3 5 2]\n",
      "0.8716585365853659\n",
      "Iteration:  890\n",
      "[7 2 1 ... 3 9 2] [7 3 1 ... 3 5 2]\n",
      "0.8721463414634146\n",
      "Iteration:  900\n",
      "[7 2 1 ... 3 9 2] [7 3 1 ... 3 5 2]\n",
      "0.8728048780487805\n",
      "Iteration:  910\n",
      "[7 2 1 ... 3 9 2] [7 3 1 ... 3 5 2]\n",
      "0.8731707317073171\n",
      "Iteration:  920\n",
      "[7 2 1 ... 3 9 2] [7 3 1 ... 3 5 2]\n",
      "0.873780487804878\n",
      "Iteration:  930\n",
      "[7 2 1 ... 3 9 2] [7 3 1 ... 3 5 2]\n",
      "0.8742682926829268\n",
      "Iteration:  940\n",
      "[7 2 1 ... 3 9 2] [7 3 1 ... 3 5 2]\n",
      "0.8744878048780488\n",
      "Iteration:  950\n",
      "[7 2 1 ... 3 9 2] [7 3 1 ... 3 5 2]\n",
      "0.8749268292682927\n",
      "Iteration:  960\n",
      "[7 2 1 ... 3 9 2] [7 3 1 ... 3 5 2]\n",
      "0.8753170731707317\n",
      "Iteration:  970\n",
      "[7 2 1 ... 3 9 2] [7 3 1 ... 3 5 2]\n",
      "0.8757317073170732\n",
      "Iteration:  980\n",
      "[7 2 1 ... 3 9 2] [7 3 1 ... 3 5 2]\n",
      "0.876219512195122\n",
      "Iteration:  990\n",
      "[7 2 1 ... 3 9 2] [7 3 1 ... 3 5 2]\n",
      "0.8768292682926829\n"
     ]
    }
   ],
   "source": [
    "W1, b1, W2, b2 = gradient_descent(X_train, Y_train, 0.10, 1000)"
   ]
  },
  {
   "cell_type": "code",
   "execution_count": 17,
   "metadata": {
    "execution": {
     "iopub.execute_input": "2023-04-19T23:31:50.840794Z",
     "iopub.status.busy": "2023-04-19T23:31:50.839724Z",
     "iopub.status.idle": "2023-04-19T23:31:50.857937Z",
     "shell.execute_reply": "2023-04-19T23:31:50.856602Z",
     "shell.execute_reply.started": "2023-04-19T23:31:50.840742Z"
    }
   },
   "outputs": [],
   "source": [
    "def make_predictions(X, W1, b1, W2, b2):\n",
    "    _, _, _, A2 = forward_prop(W1, b1, W2, b2, X)\n",
    "    predictions = get_predictions(A2)\n",
    "    return predictions\n",
    "\n",
    "def test_prediction(index, W1, b1, W2, b2):\n",
    "    current_image = X_train[:, index, None]\n",
    "    prediction = make_predictions(X_train[:, index, None], W1, b1, W2, b2)\n",
    "    label = Y_train[index]\n",
    "    print(\"Prediction: \", prediction)\n",
    "    print(\"Label: \", label)\n",
    "    \n",
    "    current_image = current_image.reshape((28, 28)) * 255\n",
    "    plt.gray()\n",
    "    plt.imshow(current_image, interpolation='nearest')\n",
    "    plt.show()"
   ]
  },
  {
   "cell_type": "code",
   "execution_count": 19,
   "metadata": {
    "execution": {
     "iopub.execute_input": "2023-04-19T23:31:50.865634Z",
     "iopub.status.busy": "2023-04-19T23:31:50.863878Z",
     "iopub.status.idle": "2023-04-19T23:31:52.080981Z",
     "shell.execute_reply": "2023-04-19T23:31:52.079697Z",
     "shell.execute_reply.started": "2023-04-19T23:31:50.865585Z"
    }
   },
   "outputs": [
    {
     "name": "stdout",
     "output_type": "stream",
     "text": [
      "Prediction:  [7]\n",
      "Label:  7\n"
     ]
    },
    {
     "data": {
      "image/png": "[encoded data removed]",
      "text/plain": [
       "<Figure size 432x288 with 1 Axes>"
      ]
     },
     "metadata": {
      "needs_background": "light"
     },
     "output_type": "display_data"
    },
    {
     "name": "stdout",
     "output_type": "stream",
     "text": [
      "Prediction:  [2]\n",
      "Label:  3\n"
     ]
    },
    {
     "data": {
      "image/png": "[encoded data removed]",
      "text/plain": [
       "<Figure size 432x288 with 1 Axes>"
      ]
     },
     "metadata": {
      "needs_background": "light"
     },
     "output_type": "display_data"
    },
    {
     "name": "stdout",
     "output_type": "stream",
     "text": [
      "Prediction:  [1]\n",
      "Label:  1\n"
     ]
    },
    {
     "data": {
      "image/png": "[encoded data removed]",
      "text/plain": [
       "<Figure size 432x288 with 1 Axes>"
      ]
     },
     "metadata": {
      "needs_background": "light"
     },
     "output_type": "display_data"
    },
    {
     "name": "stdout",
     "output_type": "stream",
     "text": [
      "Prediction:  [4]\n",
      "Label:  4\n"
     ]
    },
    {
     "data": {
      "image/png": "[encoded data removed]",
      "text/plain": [
       "<Figure size 432x288 with 1 Axes>"
      ]
     },
     "metadata": {
      "needs_background": "light"
     },
     "output_type": "display_data"
    }
   ],
   "source": [
    "test_prediction(0, W1, b1, W2, b2)\n",
    "test_prediction(1, W1, b1, W2, b2)\n",
    "test_prediction(2, W1, b1, W2, b2)\n",
    "test_prediction(3, W1, b1, W2, b2)"
   ]
  },
  {
   "cell_type": "code",
   "execution_count": null,
   "metadata": {},
   "outputs": [],
   "source": []
  },
  {
   "cell_type": "code",
   "execution_count": null,
   "metadata": {},
   "outputs": [],
   "source": []
  }
 ],
 "metadata": {
  "kernelspec": {
   "display_name": "Python 3 (ipykernel)",
   "language": "python",
   "name": "python3"
  },
  "language_info": {
   "codemirror_mode": {
    "name": "ipython",
    "version": 3
   },
   "file_extension": ".py",
   "mimetype": "text/x-python",
   "name": "python",
   "nbconvert_exporter": "python",
   "pygments_lexer": "ipython3",
   "version": "3.9.12"
  }
 },
 "nbformat": 4,
 "nbformat_minor": 4
}
